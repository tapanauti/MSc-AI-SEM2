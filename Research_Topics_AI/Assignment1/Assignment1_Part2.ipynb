{
 "metadata": {
  "language_info": {
   "codemirror_mode": {
    "name": "ipython",
    "version": 3
   },
   "file_extension": ".py",
   "mimetype": "text/x-python",
   "name": "python",
   "nbconvert_exporter": "python",
   "pygments_lexer": "ipython3",
   "version": "3.8.3-final"
  },
  "orig_nbformat": 2,
  "kernelspec": {
   "name": "python3",
   "display_name": "Python 3.8.3 64-bit (conda)",
   "metadata": {
    "interpreter": {
     "hash": "00c26e0d0bc6092809178b08f74d162f3ce833ae45d469755623bafa78f7cfc2"
    }
   }
  }
 },
 "nbformat": 4,
 "nbformat_minor": 2,
 "cells": [
  {
   "cell_type": "code",
<<<<<<< HEAD
   "execution_count": 7,
=======
   "execution_count": 2,
>>>>>>> 512cb7f
   "metadata": {},
   "outputs": [],
   "source": [
    "from numpy.core.fromnumeric import size\n",
    "import cv2\n",
    "import numpy as np\n",
    "import imutils\n",
    "from imutils.video import FPS\n",
    "from keras.models import load_model\n",
    "import tensorflow as tf\n",
    "from keras.preprocessing import image\n",
<<<<<<< HEAD
    "\n",
    "INPUT = 'demo.mp4'\n",
    "OUTPUT = 'output.avi'\n",
    "LABEL = 'yolov3.txt'\n",
=======
    "import pandas as pd \n",
    "\n",
    "#set argument\n",
    "\n",
    "INPUT = 'demo.mp4'\n",
    "OUTPUT = 'output.avi'\n",
    "LABEL = 'C:/Users/CS-Guest-2/Desktop/Nuig/MSc_AI/MSc-AI/Research_Topics_AI/Assignment1/yolov3.txt'\n",
>>>>>>> 512cb7f
    "FILE = 'cars.txt'\n",
    "CONFIG = 'yolo3.cfg'\n",
    "WEIGHT  = 'yolo3.weights'\n",
    "\n",
<<<<<<< HEAD
    "model = load_model('C:/Users/CS-Guest-2/Desktop/Nuig/MSc_AI/MSc-AI/Research_Topics_AI/object-detection-opencv/saved_model')\n",
    "\n",
    "vs = cv2.VideoCapture(INPUT)\n",
    "writer = None\n",
    "fps = FPS().start()\n",
    "\n",
    "Width = None\n",
    "Height = None\n",
    "\n",
    "writer = cv2.VideoWriter(OUTPUT,cv2.VideoWriter_fourcc(*'MJPG'),25,(800,600),1)\n",
=======
    "\n",
    "#load model\n",
    "\n",
    "model = load_model('C:/Users/CS-Guest-2/Desktop/Nuig/MSc_AI/MSc-AI/Research_Topics_AI/object-detection-opencv/saved_model')\n",
    "\n",
    "\n",
    "#capture frame from input\n",
    "\n",
    "vs = cv2.VideoCapture(INPUT)\n",
    "writer = None\n",
    "fps = FPS().start()\n",
    "countSedan = 0\n",
    "countsuv = 0\n",
    "Width = None\n",
    "Height = None\n",
    "cars = {'Total' : [] , 'Sedan' : [] , 'SUV' : []}\n",
    "\n",
    "#write the frames to video\n",
    "writer = cv2.VideoWriter(OUTPUT,cv2.VideoWriter_fourcc(*'MJPG'),30,(800,600),1)\n",
>>>>>>> 512cb7f
    "\n",
    "def get_output_layers(net):\n",
    "    \n",
    "    layer_names = net.getLayerNames()\n",
    "    \n",
    "    layer_names = [layer_names[i[0] - 1] for i in net.getUnconnectedOutLayers()]\n",
    "\n",
    "    return layer_names\n",
    "\n",
    "\n",
    "\n",
<<<<<<< HEAD
    "def draw_prediction(img, class_id, confidence, x, y, x_plus_w, y_plus_h):\n",
=======
    "def draw_prediction(img, class_id, confidence, x, y, x_plus_w, y_plus_h,countSedan,countsuv):\n",
    "   \n",
>>>>>>> 512cb7f
    "    with open(FILE, 'r') as f:\n",
    "        class1 = [line.strip() for line in f.readlines()]\n",
    "    label = str(class1[0])\n",
    "    label1 = str(class1[1])\n",
    "    color = COLORS[class_id]\n",
    "    cv2.rectangle(img, (x,y), (x_plus_w,y_plus_h), color, 2)\n",
<<<<<<< HEAD
=======
    "    \n",
>>>>>>> 512cb7f
    "    new_img = np.expand_dims(img,axis =0)\n",
    "    pred = model.predict(new_img)\n",
    "    ans =pred.argmax(axis = -1)\n",
    "    if ans[0] == 0:\n",
    "        cv2.putText(img, label, (x,y-5), cv2.FONT_HERSHEY_SIMPLEX, 0.5, color, 2)\n",
<<<<<<< HEAD
    "    else:\n",
    "        cv2.putText(img, label1, (x,y-5), cv2.FONT_HERSHEY_SIMPLEX, 0.5, color, 2)\n",
    "    \n",
=======
    "        countSedan +=1\n",
    "    else:\n",
    "        cv2.putText(img, label1, (x,y-5), cv2.FONT_HERSHEY_SIMPLEX, 0.5, color, 2)\n",
    "        countsuv +=1\n",
    "    return countSedan, countsuv\n",
>>>>>>> 512cb7f
    "        \n",
    "\n",
    "classes = None\n",
    "\n",
    "with open(LABEL, 'r') as f:\n",
    "    classes = [line.strip() for line in f.readlines()]\n",
    "    \n",
    "\n",
    "COLORS = np.random.uniform(0, 255, size=(len(classes), 3))\n",
<<<<<<< HEAD
    "\n",
=======
    " # Initialize netwrok and load weights\n",
>>>>>>> 512cb7f
    "net = cv2.dnn.readNet(\"yolov3.weights\",\"yolov3.cfg\")\n",
    "  \n",
    "\n",
    "\n",
    "\n",
    "\n",
    "while True:\n",
    "    try:\n",
<<<<<<< HEAD
    "        (grabbed,frame) = vs.read()#\n",
=======
    "        (grabbed,frame) = vs.read()\n",
>>>>>>> 512cb7f
    "    except:\n",
    "        break\n",
    "\n",
    "    if not grabbed:\n",
    "        break\n",
    "    blob = cv2.dnn.blobFromImage(frame, 1/255.0, (416,416), (0,0,0), True, crop=False)\n",
    "    net.setInput(blob)\n",
    "\n",
    "    if Width is None or Height is None:\n",
    "        Height,Width = frame.shape[:2]\n",
    "    outs = net.forward(get_output_layers(net))\n",
    "\n",
    "\n",
    "    class_ids = []\n",
    "    confidences = []\n",
    "    boxes = []\n",
<<<<<<< HEAD
    "    conf_threshold = 0.5\n",
=======
    "    conf_threshold = 0.8\n",
>>>>>>> 512cb7f
    "    nms_threshold = 0.4\n",
    "\n",
    "\n",
    "    for out in outs:\n",
    "        for detection in out:\n",
    "\n",
    "            scores = detection[5:]\n",
    "            class_id = np.argmax(scores)\n",
    "            confidence = scores[class_id]\n",
    "\n",
    "            if confidence > 0.5:\n",
    "                box = detection[0:4] * np.array([Width,Height,Width,Height])\n",
    "                (center_x,center_y,w,h) = box.astype(\"int\")\n",
    "\n",
    "                x = center_x - w / 2\n",
    "                y = center_y - h / 2\n",
    "\n",
    "                class_ids.append(class_id)\n",
    "                confidences.append(float(confidence))\n",
    "                boxes.append([x, y, int(w), int(h)])\n",
    "\n",
    "\n",
    "    indices = cv2.dnn.NMSBoxes(boxes, confidences, conf_threshold, nms_threshold)\n",
<<<<<<< HEAD
    "\n",
=======
    "    # for each frame predict the object detected and draw boundary \n",
    "    \n",
>>>>>>> 512cb7f
    "    for i in indices:\n",
    "        i = i[0]\n",
    "        box = boxes[i]\n",
    "        x = box[0]\n",
    "        y = box[1]\n",
    "        w = box[2]\n",
    "        h = box[3]        \n",
<<<<<<< HEAD
    "\n",
    "        draw_prediction(frame, class_ids[i], confidences[i], round(x), round(y), round(x+w), round(y+h))\n",
    "\n",
    "    cv2.imshow(\"output\",cv2.resize(frame,(800,600)))\n",
    "    fps.update()\n",
=======
    "        countSedan,countsuv =  draw_prediction(frame, class_ids[i], confidences[i], round(x), round(y), round(x+w), round(y+h),countSedan,countsuv)\n",
    "    cv2.putText(frame, f'count = {len(indices)} cars' , (50,50), cv2.FONT_HERSHEY_SIMPLEX, 0.5, (255, 0, 0), 2)\n",
    "    cv2.putText(frame, f'Sedan Cars  = {countSedan}' , (50,70), cv2.FONT_HERSHEY_SIMPLEX, 0.5, (255, 0, 0), 2)\n",
    "    cv2.putText(frame, f'Suv Cars  = {countsuv}' , (50,90), cv2.FONT_HERSHEY_SIMPLEX, 0.5, (255, 0, 0), 2)\n",
    "    cars[\"Total\"].append(len(indices))\n",
    "    cars[\"Sedan\"].append(countSedan)\n",
    "    cars[\"SUV\"].append(countsuv)\n",
    "    df = pd.DataFrame(cars, columns = ['Total', 'Sedan','Suv'])   \n",
    "    cv2.imshow(\"output\",cv2.resize(frame,(800,600)))\n",
    "    fps.update()\n",
    "    countSedan = 0\n",
    "    countsuv = 0\n",
>>>>>>> 512cb7f
    "    writer.write(cv2.resize(frame,(800,600)))\n",
    "    if cv2.waitKey(1) & 0xFF == ord('s'): \n",
    "        break\n",
    "fps.stop()\n",
<<<<<<< HEAD
    "\n",
=======
    "df.index +=1\n",
    "df.to_csv('groundtruth.csv')\n",
>>>>>>> 512cb7f
    "cv2.destroyAllWindows()\n",
    "writer.release()\n",
    "vs.release()"
   ]
  },
  {
   "cell_type": "code",
<<<<<<< HEAD
=======
   "execution_count": 26,
   "metadata": {},
   "outputs": [
    {
     "output_type": "execute_result",
     "data": {
      "text/plain": [
       "array([[  0,   0,   0,   0,   0,   0],\n",
       "       [  1,  31,  41,   1,   5,   1],\n",
       "       [ 31,  50,  54,   3,   4,   0],\n",
       "       [  1,  66,  83,  65,  25,   1],\n",
       "       [  3,  63, 138, 128,  43,   8],\n",
       "       [  0,   0,   8,  15,  26,   5]], dtype=int64)"
      ]
     },
     "metadata": {},
     "execution_count": 26
    }
   ],
   "source": [
    "from sklearn.metrics import f1_score\n",
    "import pandas as pd\n",
    "from sklearn.metrics import accuracy_score\n",
    "from sklearn.metrics import confusion_matrix\n",
    "\n",
    "df1 = pd.read_csv('groundtruth.csv')\n",
    "df2 = pd.read_excel('Groundtruth.xlsx')\n",
    "\n",
    "#f1_score(df2['Total'], df1['Total'], average  = 'weighted')\n",
    "#accuracy_score(df2['Total'], df1['Total'])\n",
    "confusion_matrix(df2['Total'], df1['Total'])"
   ]
  },
  {
   "cell_type": "code",
>>>>>>> 512cb7f
   "execution_count": null,
   "metadata": {},
   "outputs": [],
   "source": []
  }
 ]
}